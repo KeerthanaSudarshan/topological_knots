{
 "cells": [
  {
   "cell_type": "code",
   "execution_count": 6,
   "id": "8e315ba6",
   "metadata": {},
   "outputs": [],
   "source": [
    "import matplotlib.pyplot as plt\n",
    "import numpy as np\n",
    "from vpython import *\n",
    "from sympy import *\n",
    "def column(matrix, i):\n",
    "    return [row[i] for row in matrix]"
   ]
  },
  {
   "cell_type": "markdown",
   "id": "94a054cf",
   "metadata": {},
   "source": [
    "## My version"
   ]
  },
  {
   "cell_type": "code",
   "execution_count": 7,
   "id": "4addd6e0",
   "metadata": {},
   "outputs": [],
   "source": [
    "def removerlaps(project):\n",
    "    #Remove overlaps\n",
    "    #shift every z-plane point by z*0.1 in the y-direction, and subdivide every line segment into 10.\n",
    "    l = len(project)\n",
    "    #project = project.astype(float)\n",
    "    for i in range(l):\n",
    "        project[i][0] = project[i][0] + 0.1*project[i][2]\n",
    "        project[i][1] = project[i][1] + 0.1*project[i][2]\n",
    "    half = project\n",
    "    new = project\n",
    "    inc = 0\n",
    "    for i in range(l-1):\n",
    "        p = [project[i][0], project[i][1]]\n",
    "        d3 = project[(i+1)] - project[i]\n",
    "        d = [d3[0], d3[1]]\n",
    "        add = np.zeros(shape=(9,3))\n",
    "        if (d3[2]==0):\n",
    "            for j in range(1,10):\n",
    "                add[j-1] = [p[0] + 0.1*j*d[0], p[1] + 0.1*j*d[1], project[i][2]]\n",
    "            new = np.concatenate((new[0: inc*9 + i +1], add, new[inc*9 +i+1:]), axis=0)\n",
    "            inc +=1\n",
    "    project = new\n",
    "    return project"
   ]
  },
  {
   "cell_type": "code",
   "execution_count": 8,
   "id": "fcbd6233",
   "metadata": {},
   "outputs": [],
   "source": [
    "def alexpolynomial(x,y,z):\n",
    "    points = np.zeros(shape=(len(x),3))\n",
    "    points[:,0]=x\n",
    "    points[:,1]=y\n",
    "    points[:,2]=z\n",
    "    points = removerlaps(points) #Should create a shear transformation in x- and y-axis to remove overlaps.\n",
    "    #points = points*10\n",
    "\n",
    "    #Remove extraneous 3D points\n",
    "    deletes = []\n",
    "    for i in range(0,len(points)-1):\n",
    "        if (points[i][0]==points[i+1][0]) and (points[i][1]==points[i+1][1]):\n",
    "            deletes.append(i+1)       \n",
    "    project = np.delete(points, deletes, axis=0)\n",
    "\n",
    "    #Finding the crossing points\n",
    "    num = 0\n",
    "    oindex = []\n",
    "    uindex = []\n",
    "    for i in range(1,len(project)-1):\n",
    "        point1 = project[i]\n",
    "        for j in range(i+1,len(project)):\n",
    "            point2 = project[j]\n",
    "            if (point1[0]==point2[0]) and (point1[1]==point2[1]):\n",
    "                num = num + 1\n",
    "                if (point1[2]>point2[2]):\n",
    "                    oindex.append(i)\n",
    "                    uindex.append(j)\n",
    "                else:\n",
    "                    oindex.append(j)\n",
    "                    uindex.append(i)\n",
    "                break\n",
    "\n",
    "    project = np.delete(project, 2, axis=1)   #reduce to the string to a 2D projection             \n",
    "    l = len(project)\n",
    "    t = symbols('t')\n",
    "    M = zeros(num, num) #Create empty matrix for alexander polynomial\n",
    "    \n",
    "    #Alterations: Sorting the lists of crossings, and deleting consecutive ones.\n",
    "    over = np.array(oindex)\n",
    "    under = np.array(uindex)\n",
    "    over = over[np.argsort(under)] #Sorts overcrossings with their corresponding undercrossing (sorted below)\n",
    "    under = np.sort(under)\n",
    "    dels = np.array([], dtype=int)\n",
    "    ll = len(under)\n",
    "    for i in range(ll):\n",
    "        a = under[i]\n",
    "        b = under[(i+1)%ll]\n",
    "        c = over[i]\n",
    "        d = over[(i+1)%ll]\n",
    "        \n",
    "        if abs(a-b)==1 and abs(c-d)==1:\n",
    "            dels = np.append(dels,int(i))\n",
    "    \n",
    "    under = np.delete(under, dels)\n",
    "    over = np.delete(over, dels)\n",
    "    oindex = over\n",
    "    uindex = under\n",
    "    num = len(over)\n",
    "\n",
    "    #Iterate over the number of crossings\n",
    "    for i in range(num):\n",
    "        over = project[int((oindex[i]+1)%l)] - project[int(oindex[i])]\n",
    "        under = project[int((uindex[i]+1)%l)] - project[int(uindex[i])]\n",
    "        if np.cross(over,under) == -1:\n",
    "            pol = [1-t, t, -1] #order is: [overstrand arc, understrand head arc, understrand tail arc]\n",
    "        else:\n",
    "            pol = [1-t, -1, t]\n",
    "\n",
    "        endarc = [a-1 for a in uindex] #define the arc by the end of each arc,i.e. the point where it is cut off \n",
    "                                    #by the overstrand at the crossing. Then the 'name' of the arc is the index.\n",
    "\n",
    "        #for overstrand arc\n",
    "        list1 = endarc + [oindex[i]]\n",
    "        list1 = sorted(list1)\n",
    "        arc1 = list1.index(int(oindex[i]))\n",
    "        if arc1 > (num-1):\n",
    "            arc1 = 0\n",
    "        M[i*(num) + arc1] = pol[0]\n",
    "\n",
    "        #for understrand head arc\n",
    "        list2 = endarc + [uindex[i]+1]\n",
    "        list2 = sorted(list2)\n",
    "        arc2 = list2.index(uindex[i]+1)\n",
    "        if arc2 > (len(endarc)-1):\n",
    "            arc2 = 0\n",
    "        M[i*(num) + arc2] = pol[1]\n",
    "\n",
    "        #for understrand tail arc\n",
    "#         list3 = endarc + [uindex[i]-1]\n",
    "#         list3 = sorted(list3)\n",
    "        list3 = sorted(endarc)\n",
    "        arc3 = list3.index(uindex[i]-1)\n",
    "        M[i*(num) + arc3] = pol[2]\n",
    "\n",
    "    if (num==0) or (num==1):\n",
    "        M = Matrix([1])\n",
    "    Mdupe = 1*M\n",
    "    M.col_del(0)\n",
    "    M.row_del(0)\n",
    "    return M.det()"
   ]
  },
  {
   "cell_type": "markdown",
   "id": "6c6d96af",
   "metadata": {},
   "source": [
    "## DP's version"
   ]
  },
  {
   "cell_type": "code",
   "execution_count": 21,
   "id": "c85ed3a4",
   "metadata": {},
   "outputs": [],
   "source": [
    "def d2(x,y,z):\n",
    "    ''' Creates a modified projection of the knot in the X and Y planes '''\n",
    "    '''Scales up the full knot by a certain amount (which depends on the max no. of spaces a point will end up being moved)\n",
    "    Moves every point up and right depending on its z-coordinate\n",
    "    Adds integer lattice points between the scaled up horizontal and vertical lines'''\n",
    "    \n",
    "    l = len(x)\n",
    "    spread = np.amax(z) - np.amin(z)\n",
    "    x = x*int(spread+1)\n",
    "    y = y*int(spread+1)\n",
    "    \n",
    "    x += z\n",
    "    y += z\n",
    "    \n",
    "    j = 0\n",
    "    base = np.arange(1,spread+1,1)\n",
    "    base2 = np.ones(int(spread))\n",
    "    for i in range(l):\n",
    "        try:\n",
    "            if x[j] == x[j+1]:\n",
    "                x = np.insert(x, j+1, x[j]*base2)\n",
    "                y = np.insert(y, j+1, y[j]+(base*np.sign(y[j+1]-y[j])))\n",
    "                z = np.insert(z, j+1, z[j]*base2)\n",
    "                j += int(spread+1)\n",
    "            else:\n",
    "                if y[j] == y[j+1]:\n",
    "                    x = np.insert(x, j+1, x[j]+(base*np.sign(x[j+1]-x[j])))\n",
    "                    y = np.insert(y, j+1, y[j]*base2)\n",
    "                    z = np.insert(z, j+1, z[j]*base2)\n",
    "                    j += int(spread+1)\n",
    "                else:\n",
    "                    j += 1\n",
    "        except IndexError:\n",
    "            #print('ERROR!')\n",
    "            break\n",
    "    \n",
    "    return x,y,z\n",
    "\n",
    "def crossings(proj, z):\n",
    "    ''' Returns an ordered list of the undercrossings, and their corresponding overcrossings '''\n",
    "    \n",
    "    over = np.array([])\n",
    "    under = np.array([])\n",
    "    for i in range(1,len(proj)):\n",
    "        for j in range(i+1,len(proj)): #Check for repetition only in the points after so the same crossing isn't checked twice\n",
    "            if all(proj[i] == proj[j]):\n",
    "                front = [i,j][np.argmax([z[i],z[j]])]\n",
    "                back = [i,j][np.argmin([z[i],z[j]])]\n",
    "                \n",
    "                over = np.append(over, front)\n",
    "                under = np.append(under, back)\n",
    "                break\n",
    "    \n",
    "    over = over[np.argsort(under)] #Sorts overcrossings with their corresponding undercrossing (sorted below)\n",
    "    under = np.sort(under) #Sorts undercrossings in order of first to last\n",
    "    return under, over\n",
    "\n",
    "def alexpolynomial(x,y,z):\n",
    "    \"\"\" Assumptions that must hold true: \"\"\"\n",
    "    ''' Every point of the knot lies on an integer 3D coordinate '''\n",
    "    ''' You have the x,y,z coordinates for the curve '''\n",
    "    \"\"\" Assumptions that if violated, should not break the function: \"\"\"\n",
    "    ''' No two consecutive undercrossings are also consecutive points in the projection '''\n",
    "    ''' There are no overlapping line segments in the projection '''\n",
    "    \n",
    "    x_,y_,z_ = d2(x,y,z)\n",
    "    proj = np.array([x_,y_]).T\n",
    "    us, os = crossings(proj, z_)\n",
    "    ulen = len(us)\n",
    "    ubins = np.array([0] + us.tolist() + [len(proj)-1])\n",
    "    ubins2 = us\n",
    "    #Demarcates the arcs into bins with the endpoints being the undercrossings\n",
    "    #The undercrossing itself is placed into the bin (arc) it is the left edge of\n",
    "    \n",
    "    l = len(proj)\n",
    "    \n",
    "    t = symbols('t')\n",
    "    alexvars = [1, t, -t, -1]\n",
    "    alexmat = zeros(ulen)\n",
    "    \n",
    "    for i in range(ulen):        \n",
    "        vec1 = proj[int(os[i]+1)%(l-1)] - proj[int(os[i])]\n",
    "        vec2 = proj[int(us[i]+1)%(l-1)] - proj[int(us[i])]\n",
    "        if np.cross(vec1,vec2) == -1: #Point after overcrossing --> Point after undercrossing : Clockwise\n",
    "            ps = [os[i], us[i]+0.1, os[i], us[i]-0.1]\n",
    "        else:  #Point after overcrossing --> Point after undercrossing : Anti-clockwise\n",
    "            ps = [os[i], us[i]-0.1, os[i], us[i]+0.1]\n",
    "        \n",
    "        for j in range(4):\n",
    "            arcbin,_ = np.histogram(ps[j], bins=ubins)\n",
    "            arc1 = np.argmax(arcbin)%ulen #Which arc is the point in, with the first and last bin being the same arc\n",
    "            alexmat[ulen*i + arc1] += alexvars[j]\n",
    "    \n",
    "    try:\n",
    "        alexmat.col_del(0)\n",
    "        alexmat.row_del(0)\n",
    "        al = alexmat.det()\n",
    "        while rem(al, t) == 0:\n",
    "            al = cancel(al/t)\n",
    "        if rem(al, t) < 0:\n",
    "            al *= -1\n",
    "        return al\n",
    "    except IndexError:\n",
    "        return 1"
   ]
  },
  {
   "cell_type": "code",
   "execution_count": 22,
   "id": "63e8ee68",
   "metadata": {},
   "outputs": [
    {
     "data": {
      "text/latex": [
       "$\\displaystyle t^{2} - t + 1$"
      ],
      "text/plain": [
       "t**2 - t + 1"
      ]
     },
     "metadata": {},
     "output_type": "display_data"
    }
   ],
   "source": [
    "(x,y,z) = np.loadtxt('/Users/Keerthana/Downloads/Trefoil.csv', delimiter=',', unpack=True)\n",
    "display(alexpolynomial(x,y,z))"
   ]
  },
  {
   "cell_type": "code",
   "execution_count": 23,
   "id": "f6d9613a",
   "metadata": {},
   "outputs": [
    {
     "data": {
      "text/latex": [
       "$\\displaystyle t^{2} - 3 t + 1$"
      ],
      "text/plain": [
       "t**2 - 3*t + 1"
      ]
     },
     "metadata": {},
     "output_type": "display_data"
    }
   ],
   "source": [
    "(x,y,z) = np.loadtxt('/Users/Keerthana/Downloads/Figure 8.csv', delimiter=',', unpack=True)\n",
    "display(alexpolynomial(x,y,z))\n",
    "# display(alexpolynomial(y,z,x)[0])\n",
    "# display(alexpolynomial(z,x,y)[0])"
   ]
  },
  {
   "cell_type": "code",
   "execution_count": 25,
   "id": "93578277",
   "metadata": {},
   "outputs": [
    {
     "data": {
      "text/latex": [
       "$\\displaystyle t^{2} - t + 1$"
      ],
      "text/plain": [
       "t**2 - t + 1"
      ]
     },
     "metadata": {},
     "output_type": "display_data"
    }
   ],
   "source": [
    "(x,y,z) = np.loadtxt('/Users/Keerthana/Downloads/Not Knots - Sheet1.csv', delimiter=',', unpack=True)\n",
    "display(alexpolynomial(x,y,z))\n",
    "# display(alexpolynomial(y,z,x)[0])\n",
    "# display(alexpolynomial(z,x,y)[0])"
   ]
  },
  {
   "cell_type": "code",
   "execution_count": 26,
   "id": "4d541fcb",
   "metadata": {},
   "outputs": [
    {
     "data": {
      "text/latex": [
       "$\\displaystyle t^{2} - 3 t + 1$"
      ],
      "text/plain": [
       "t**2 - 3*t + 1"
      ]
     },
     "metadata": {},
     "output_type": "display_data"
    }
   ],
   "source": [
    "(x,y,z) = np.loadtxt('/Users/Keerthana/Downloads/fancy figure 8.csv', delimiter=',', unpack=True)\n",
    "display(alexpolynomial(x,y,z))"
   ]
  },
  {
   "cell_type": "code",
   "execution_count": 29,
   "id": "a43b28b2",
   "metadata": {},
   "outputs": [
    {
     "data": {
      "text/latex": [
       "$\\displaystyle - t^{2} + t - 1 + \\frac{1}{t} - \\frac{1}{t^{2}}$"
      ],
      "text/plain": [
       "-t**2 + t - 1 + 1/t - 1/t**2"
      ]
     },
     "metadata": {},
     "output_type": "display_data"
    }
   ],
   "source": [
    "(x,y,z) = np.loadtxt('/Users/Keerthana/Downloads/cinquefoil knot.csv', delimiter=',', unpack=True)\n",
    "display(simplify(alexpolynomial(x,y,z)/-symbols('t')**2))"
   ]
  },
  {
   "cell_type": "code",
   "execution_count": 31,
   "id": "072d8865",
   "metadata": {},
   "outputs": [
    {
     "data": {
      "text/latex": [
       "$\\displaystyle 2 - \\frac{3}{t} + \\frac{2}{t^{2}}$"
      ],
      "text/plain": [
       "2 - 3/t + 2/t**2"
      ]
     },
     "metadata": {},
     "output_type": "display_data"
    }
   ],
   "source": [
    "(x,y,z) = np.loadtxt('/Users/Keerthana/Downloads/3 twist knot.csv', delimiter=',', unpack=True)\n",
    "display(simplify(alexpolynomial(x,y,z)/symbols('t')**2))"
   ]
  },
  {
   "cell_type": "code",
   "execution_count": 33,
   "id": "1eee71a8",
   "metadata": {},
   "outputs": [
    {
     "data": {
      "text/latex": [
       "$\\displaystyle 2 - \\frac{3}{t} + \\frac{2}{t^{2}}$"
      ],
      "text/plain": [
       "2 - 3/t + 2/t**2"
      ]
     },
     "metadata": {},
     "output_type": "display_data"
    }
   ],
   "source": [
    "(x,y,z) = np.loadtxt('/Users/Keerthana/Downloads/3 twist knot alt.csv', delimiter=',', unpack=True)\n",
    "display(simplify(alexpolynomial(x,y,z)/symbols('t')**2))"
   ]
  },
  {
   "cell_type": "code",
   "execution_count": 35,
   "id": "4677cdc4",
   "metadata": {},
   "outputs": [
    {
     "data": {
      "text/plain": [
       "1"
      ]
     },
     "execution_count": 35,
     "metadata": {},
     "output_type": "execute_result"
    }
   ],
   "source": [
    "(x,y,z) = np.loadtxt('/Users/Keerthana/Downloads/unknot.csv', delimiter=',', unpack=True)\n",
    "alexpolynomial(x,y,z)"
   ]
  },
  {
   "cell_type": "code",
   "execution_count": 36,
   "id": "6acdb9df",
   "metadata": {},
   "outputs": [
    {
     "data": {
      "text/latex": [
       "$\\displaystyle 1$"
      ],
      "text/plain": [
       "1"
      ]
     },
     "execution_count": 36,
     "metadata": {},
     "output_type": "execute_result"
    }
   ],
   "source": [
    "(x,y,z) = np.loadtxt('/Users/Keerthana/Downloads/unknot variant.csv', delimiter=',', unpack=True)\n",
    "alexpolynomial(x,y,z)"
   ]
  },
  {
   "cell_type": "code",
   "execution_count": 37,
   "id": "33474b0c",
   "metadata": {},
   "outputs": [
    {
     "data": {
      "text/latex": [
       "$\\displaystyle 1$"
      ],
      "text/plain": [
       "1"
      ]
     },
     "metadata": {},
     "output_type": "display_data"
    }
   ],
   "source": [
    "(x,y,z) = np.loadtxt('/Users/Keerthana/Downloads/Alex of 0.csv', delimiter=',', unpack=True)\n",
    "display(alexpolynomial(x,y,z))"
   ]
  },
  {
   "cell_type": "code",
   "execution_count": 38,
   "id": "06c88ae6",
   "metadata": {},
   "outputs": [
    {
     "data": {
      "text/latex": [
       "$\\displaystyle 1$"
      ],
      "text/plain": [
       "1"
      ]
     },
     "metadata": {},
     "output_type": "display_data"
    }
   ],
   "source": [
    "(x,y,z) = np.loadtxt('/Users/Keerthana/Downloads/3 crossing unknot.csv', delimiter=',', unpack=True)\n",
    "display(alexpolynomial(x,y,z))"
   ]
  },
  {
   "cell_type": "code",
   "execution_count": 39,
   "id": "94acf492",
   "metadata": {},
   "outputs": [
    {
     "ename": "IndexError",
     "evalue": "index 70 is out of bounds for axis 0 with size 68",
     "output_type": "error",
     "traceback": [
      "\u001b[0;31m---------------------------------------------------------------------------\u001b[0m",
      "\u001b[0;31mIndexError\u001b[0m                                Traceback (most recent call last)",
      "\u001b[0;32m/var/folders/bm/r_gc48bx4xz4t33vx7tjyhqw0000gq/T/ipykernel_7477/1868906345.py\u001b[0m in \u001b[0;36m<module>\u001b[0;34m\u001b[0m\n\u001b[1;32m      3\u001b[0m \u001b[0mz\u001b[0m \u001b[0;34m=\u001b[0m \u001b[0;34m[\u001b[0m\u001b[0;36m0.0\u001b[0m\u001b[0;34m,\u001b[0m \u001b[0;36m0.0\u001b[0m\u001b[0;34m,\u001b[0m \u001b[0;36m0.0\u001b[0m\u001b[0;34m,\u001b[0m \u001b[0;34m-\u001b[0m\u001b[0;36m1.0\u001b[0m\u001b[0;34m,\u001b[0m \u001b[0;34m-\u001b[0m\u001b[0;36m1.0\u001b[0m\u001b[0;34m,\u001b[0m \u001b[0;34m-\u001b[0m\u001b[0;36m2.0\u001b[0m\u001b[0;34m,\u001b[0m \u001b[0;34m-\u001b[0m\u001b[0;36m2.0\u001b[0m\u001b[0;34m,\u001b[0m \u001b[0;34m-\u001b[0m\u001b[0;36m2.0\u001b[0m\u001b[0;34m,\u001b[0m \u001b[0;34m-\u001b[0m\u001b[0;36m2.0\u001b[0m\u001b[0;34m,\u001b[0m \u001b[0;34m-\u001b[0m\u001b[0;36m3.0\u001b[0m\u001b[0;34m,\u001b[0m \u001b[0;34m-\u001b[0m\u001b[0;36m3.0\u001b[0m\u001b[0;34m,\u001b[0m \u001b[0;34m-\u001b[0m\u001b[0;36m3.0\u001b[0m\u001b[0;34m,\u001b[0m \u001b[0;34m-\u001b[0m\u001b[0;36m2.0\u001b[0m\u001b[0;34m,\u001b[0m \u001b[0;34m-\u001b[0m\u001b[0;36m1.0\u001b[0m\u001b[0;34m,\u001b[0m \u001b[0;34m-\u001b[0m\u001b[0;36m1.0\u001b[0m\u001b[0;34m,\u001b[0m \u001b[0;36m0.0\u001b[0m\u001b[0;34m,\u001b[0m \u001b[0;36m0.0\u001b[0m\u001b[0;34m]\u001b[0m\u001b[0;34m\u001b[0m\u001b[0;34m\u001b[0m\u001b[0m\n\u001b[1;32m      4\u001b[0m \u001b[0;34m\u001b[0m\u001b[0m\n\u001b[0;32m----> 5\u001b[0;31m \u001b[0mdisplay\u001b[0m\u001b[0;34m(\u001b[0m\u001b[0malexpolynomial\u001b[0m\u001b[0;34m(\u001b[0m\u001b[0mx\u001b[0m\u001b[0;34m,\u001b[0m\u001b[0my\u001b[0m\u001b[0;34m,\u001b[0m\u001b[0mz\u001b[0m\u001b[0;34m)\u001b[0m\u001b[0;34m)\u001b[0m\u001b[0;34m\u001b[0m\u001b[0;34m\u001b[0m\u001b[0m\n\u001b[0m",
      "\u001b[0;32m/var/folders/bm/r_gc48bx4xz4t33vx7tjyhqw0000gq/T/ipykernel_7477/2596135036.py\u001b[0m in \u001b[0;36malexpolynomial\u001b[0;34m(x, y, z)\u001b[0m\n\u001b[1;32m     66\u001b[0m     \u001b[0mx_\u001b[0m\u001b[0;34m,\u001b[0m\u001b[0my_\u001b[0m\u001b[0;34m,\u001b[0m\u001b[0mz_\u001b[0m \u001b[0;34m=\u001b[0m \u001b[0md2\u001b[0m\u001b[0;34m(\u001b[0m\u001b[0mx\u001b[0m\u001b[0;34m,\u001b[0m\u001b[0my\u001b[0m\u001b[0;34m,\u001b[0m\u001b[0mz\u001b[0m\u001b[0;34m)\u001b[0m\u001b[0;34m\u001b[0m\u001b[0;34m\u001b[0m\u001b[0m\n\u001b[1;32m     67\u001b[0m     \u001b[0mproj\u001b[0m \u001b[0;34m=\u001b[0m \u001b[0mnp\u001b[0m\u001b[0;34m.\u001b[0m\u001b[0marray\u001b[0m\u001b[0;34m(\u001b[0m\u001b[0;34m[\u001b[0m\u001b[0mx_\u001b[0m\u001b[0;34m,\u001b[0m\u001b[0my_\u001b[0m\u001b[0;34m]\u001b[0m\u001b[0;34m)\u001b[0m\u001b[0;34m.\u001b[0m\u001b[0mT\u001b[0m\u001b[0;34m\u001b[0m\u001b[0;34m\u001b[0m\u001b[0m\n\u001b[0;32m---> 68\u001b[0;31m     \u001b[0mus\u001b[0m\u001b[0;34m,\u001b[0m \u001b[0mos\u001b[0m \u001b[0;34m=\u001b[0m \u001b[0mcrossings\u001b[0m\u001b[0;34m(\u001b[0m\u001b[0mproj\u001b[0m\u001b[0;34m,\u001b[0m \u001b[0mz_\u001b[0m\u001b[0;34m)\u001b[0m\u001b[0;34m\u001b[0m\u001b[0;34m\u001b[0m\u001b[0m\n\u001b[0m\u001b[1;32m     69\u001b[0m     \u001b[0mulen\u001b[0m \u001b[0;34m=\u001b[0m \u001b[0mlen\u001b[0m\u001b[0;34m(\u001b[0m\u001b[0mus\u001b[0m\u001b[0;34m)\u001b[0m\u001b[0;34m\u001b[0m\u001b[0;34m\u001b[0m\u001b[0m\n\u001b[1;32m     70\u001b[0m     \u001b[0mubins\u001b[0m \u001b[0;34m=\u001b[0m \u001b[0mnp\u001b[0m\u001b[0;34m.\u001b[0m\u001b[0marray\u001b[0m\u001b[0;34m(\u001b[0m\u001b[0;34m[\u001b[0m\u001b[0;36m0\u001b[0m\u001b[0;34m]\u001b[0m \u001b[0;34m+\u001b[0m \u001b[0mus\u001b[0m\u001b[0;34m.\u001b[0m\u001b[0mtolist\u001b[0m\u001b[0;34m(\u001b[0m\u001b[0;34m)\u001b[0m \u001b[0;34m+\u001b[0m \u001b[0;34m[\u001b[0m\u001b[0mlen\u001b[0m\u001b[0;34m(\u001b[0m\u001b[0mproj\u001b[0m\u001b[0;34m)\u001b[0m\u001b[0;34m-\u001b[0m\u001b[0;36m1\u001b[0m\u001b[0;34m]\u001b[0m\u001b[0;34m)\u001b[0m\u001b[0;34m\u001b[0m\u001b[0;34m\u001b[0m\u001b[0m\n",
      "\u001b[0;32m/var/folders/bm/r_gc48bx4xz4t33vx7tjyhqw0000gq/T/ipykernel_7477/2596135036.py\u001b[0m in \u001b[0;36mcrossings\u001b[0;34m(proj, z)\u001b[0m\n\u001b[1;32m     45\u001b[0m         \u001b[0;32mfor\u001b[0m \u001b[0mj\u001b[0m \u001b[0;32min\u001b[0m \u001b[0mrange\u001b[0m\u001b[0;34m(\u001b[0m\u001b[0mi\u001b[0m\u001b[0;34m+\u001b[0m\u001b[0;36m1\u001b[0m\u001b[0;34m,\u001b[0m\u001b[0mlen\u001b[0m\u001b[0;34m(\u001b[0m\u001b[0mproj\u001b[0m\u001b[0;34m)\u001b[0m\u001b[0;34m)\u001b[0m\u001b[0;34m:\u001b[0m \u001b[0;31m#Check for repetition only in the points after so the same crossing isn't checked twice\u001b[0m\u001b[0;34m\u001b[0m\u001b[0;34m\u001b[0m\u001b[0m\n\u001b[1;32m     46\u001b[0m             \u001b[0;32mif\u001b[0m \u001b[0mall\u001b[0m\u001b[0;34m(\u001b[0m\u001b[0mproj\u001b[0m\u001b[0;34m[\u001b[0m\u001b[0mi\u001b[0m\u001b[0;34m]\u001b[0m \u001b[0;34m==\u001b[0m \u001b[0mproj\u001b[0m\u001b[0;34m[\u001b[0m\u001b[0mj\u001b[0m\u001b[0;34m]\u001b[0m\u001b[0;34m)\u001b[0m\u001b[0;34m:\u001b[0m\u001b[0;34m\u001b[0m\u001b[0;34m\u001b[0m\u001b[0m\n\u001b[0;32m---> 47\u001b[0;31m                 \u001b[0mfront\u001b[0m \u001b[0;34m=\u001b[0m \u001b[0;34m[\u001b[0m\u001b[0mi\u001b[0m\u001b[0;34m,\u001b[0m\u001b[0mj\u001b[0m\u001b[0;34m]\u001b[0m\u001b[0;34m[\u001b[0m\u001b[0mnp\u001b[0m\u001b[0;34m.\u001b[0m\u001b[0margmax\u001b[0m\u001b[0;34m(\u001b[0m\u001b[0;34m[\u001b[0m\u001b[0mz\u001b[0m\u001b[0;34m[\u001b[0m\u001b[0mi\u001b[0m\u001b[0;34m]\u001b[0m\u001b[0;34m,\u001b[0m\u001b[0mz\u001b[0m\u001b[0;34m[\u001b[0m\u001b[0mj\u001b[0m\u001b[0;34m]\u001b[0m\u001b[0;34m]\u001b[0m\u001b[0;34m)\u001b[0m\u001b[0;34m]\u001b[0m\u001b[0;34m\u001b[0m\u001b[0;34m\u001b[0m\u001b[0m\n\u001b[0m\u001b[1;32m     48\u001b[0m                 \u001b[0mback\u001b[0m \u001b[0;34m=\u001b[0m \u001b[0;34m[\u001b[0m\u001b[0mi\u001b[0m\u001b[0;34m,\u001b[0m\u001b[0mj\u001b[0m\u001b[0;34m]\u001b[0m\u001b[0;34m[\u001b[0m\u001b[0mnp\u001b[0m\u001b[0;34m.\u001b[0m\u001b[0margmin\u001b[0m\u001b[0;34m(\u001b[0m\u001b[0;34m[\u001b[0m\u001b[0mz\u001b[0m\u001b[0;34m[\u001b[0m\u001b[0mi\u001b[0m\u001b[0;34m]\u001b[0m\u001b[0;34m,\u001b[0m\u001b[0mz\u001b[0m\u001b[0;34m[\u001b[0m\u001b[0mj\u001b[0m\u001b[0;34m]\u001b[0m\u001b[0;34m]\u001b[0m\u001b[0;34m)\u001b[0m\u001b[0;34m]\u001b[0m\u001b[0;34m\u001b[0m\u001b[0;34m\u001b[0m\u001b[0m\n\u001b[1;32m     49\u001b[0m \u001b[0;34m\u001b[0m\u001b[0m\n",
      "\u001b[0;31mIndexError\u001b[0m: index 70 is out of bounds for axis 0 with size 68"
     ]
    }
   ],
   "source": [
    "x = [0.0, 1.0, 1.0, 1.0, 1.0, 1.0, 1.0, 2.0, 2.0, 2.0, 1.0, 0.0, 0.0, 0.0, -1.0, -1.0, 0.0]\n",
    "y = [0.0, 0.0, 1.0, 1.0, 0.0, 0.0, 1.0, 1.0, 0.0, 0.0, 0.0, 0.0, 0.0, 0.0, 0.0, 0.0, 0.0]\n",
    "z = [0.0, 0.0, 0.0, -1.0, -1.0, -2.0, -2.0, -2.0, -2.0, -3.0, -3.0, -3.0, -2.0, -1.0, -1.0, 0.0, 0.0]\n",
    "\n",
    "display(alexpolynomial(x,y,z))"
   ]
  }
 ],
 "metadata": {
  "kernelspec": {
   "display_name": "Python 3 (ipykernel)",
   "language": "python",
   "name": "python3"
  },
  "language_info": {
   "codemirror_mode": {
    "name": "ipython",
    "version": 3
   },
   "file_extension": ".py",
   "mimetype": "text/x-python",
   "name": "python",
   "nbconvert_exporter": "python",
   "pygments_lexer": "ipython3",
   "version": "3.9.7"
  },
  "vscode": {
   "interpreter": {
    "hash": "b6fbef5ff2766c8a64a42a1b26ddbc3e1dd8567d46296bb5270eaf7c4182fad3"
   }
  }
 },
 "nbformat": 4,
 "nbformat_minor": 5
}
