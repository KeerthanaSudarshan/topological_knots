{
 "cells": [
  {
   "cell_type": "code",
   "execution_count": 1,
   "id": "8e315ba6",
   "metadata": {},
   "outputs": [
    {
     "data": {
      "text/html": [
       "<div id=\"glowscript\" class=\"glowscript\"></div>"
      ],
      "text/plain": [
       "<IPython.core.display.HTML object>"
      ]
     },
     "metadata": {},
     "output_type": "display_data"
    },
    {
     "data": {
      "application/javascript": [
       "if (typeof Jupyter !== \"undefined\") { window.__context = { glowscript_container: $(\"#glowscript\").removeAttr(\"id\")};}else{ element.textContent = ' ';}"
      ],
      "text/plain": [
       "<IPython.core.display.Javascript object>"
      ]
     },
     "metadata": {},
     "output_type": "display_data"
    }
   ],
   "source": [
    "import matplotlib.pyplot as plt\n",
    "import numpy as np\n",
    "from vpython import *\n",
    "from sympy import *\n",
    "def column(matrix, i):\n",
    "    return [row[i] for row in matrix]"
   ]
  },
  {
   "cell_type": "code",
   "execution_count": 2,
   "id": "0d996902",
   "metadata": {},
   "outputs": [],
   "source": [
    "def com(points):\n",
    "    x = column(points, 0)\n",
    "    y = column(points, 1)\n",
    "    z = column(points, 2)\n",
    "    xavg = np.mean(x)\n",
    "    yavg = np.mean(y)\n",
    "    zavg = np.mean(z)\n",
    "    cm = [xavg, yavg, zavg]\n",
    "    return cm"
   ]
  },
  {
   "cell_type": "code",
   "execution_count": 3,
   "id": "4b537d40",
   "metadata": {},
   "outputs": [],
   "source": [
    "def color(t):\n",
    "    val = 1 - 0.5**abs(t)\n",
    "    if t>0:\n",
    "        col = vector(val,0,0)\n",
    "    elif t<0:\n",
    "        col = vector(0,0,val)\n",
    "    elif t==0:\n",
    "        col = vector(0.5, 0, 0.5)\n",
    "    return col"
   ]
  },
  {
   "cell_type": "code",
   "execution_count": 4,
   "id": "a65ce659",
   "metadata": {},
   "outputs": [],
   "source": [
    "def alexpolynomial(x,y,z):\n",
    "    points = np.zeros(shape=(len(x),3))\n",
    "    points[:,0]=x\n",
    "    points[:,1]=y\n",
    "    points[:,2]=z\n",
    "\n",
    "    #Remove extraneous 3D points\n",
    "    deletes = []\n",
    "    for i in range(0,len(points)-1):\n",
    "        if (points[i][0]==points[i+1][0]) and (points[i][1]==points[i+1][1]):\n",
    "            deletes.append(i+1)       \n",
    "    project = np.delete(points, deletes, axis=0)\n",
    "\n",
    "    #Finding the corssing points\n",
    "    num = 0\n",
    "    oindex = []\n",
    "    uindex = []\n",
    "    for i in range(1,len(project)-1):\n",
    "        point1 = project[i]\n",
    "        for j in range(i+1,len(project)):\n",
    "            point2 = project[j]\n",
    "            if (point1[0]==point2[0]) and (point1[1]==point2[1]):\n",
    "                num = num + 1\n",
    "                if (point1[2]>point2[2]):\n",
    "                    oindex.append(i)\n",
    "                    uindex.append(j)\n",
    "                else:\n",
    "                    oindex.append(j)\n",
    "                    uindex.append(i)\n",
    "\n",
    "    project = np.delete(project, 2, axis=1)   #reduce to the string to a 2D projection             \n",
    "    t = symbols('t')\n",
    "    M = zeros(num, num) #Create empty matrix for alexander polynomial\n",
    "\n",
    "    #Iterate over the number of crossings\n",
    "    for i in range(num):\n",
    "        over = project[int(oindex[i]+1)] - project[int(oindex[i])]\n",
    "        under = project[int(uindex[i]+1)] - project[int(uindex[i])]\n",
    "        if np.cross(over,under) == -1:\n",
    "            pol = [1-t, t, -1] #order is: [overstrand arc, understrand head arc, understrand tail arc]\n",
    "        else:\n",
    "            pol = [1-t, -1, t]\n",
    "\n",
    "        endarc = [a-1 for a in uindex] #define the arc by the end of each arc, i.e. the point where it is cut off \n",
    "                                    #by the overstrand at the crossing. Then the 'name' of the arc is the index.\n",
    "\n",
    "        #for overstrand arc\n",
    "        list1 = endarc + [oindex[i]]\n",
    "        list1 = sorted(list1)\n",
    "        arc1 = list1.index(int(oindex[i]))\n",
    "        if arc1 > (num-1):\n",
    "            arc1 = 0\n",
    "        M[i*(num) + arc1] = pol[0]\n",
    "\n",
    "        #for understrand head arc\n",
    "        list2 = endarc + [uindex[i]+1]\n",
    "        list2 = sorted(list2)\n",
    "        arc2 = list2.index(int(uindex[i]+1))\n",
    "        if arc2 > (len(endarc)-1):\n",
    "            arc2 = 0\n",
    "        M[i*(num) + arc2] = pol[1]\n",
    "\n",
    "        #for understrand tail arc\n",
    "        list3 = sorted(endarc)\n",
    "        arc3 = list3.index(int(uindex[i]-1))\n",
    "        M[i*(num) + arc3] = pol[2]\n",
    "\n",
    "    if num==0:\n",
    "        M = Matrix([1])\n",
    "    Mdupe = 1*M\n",
    "    M.col_del(0)\n",
    "    M.row_del(0)\n",
    "    return M.det(), M, Mdupe"
   ]
  },
  {
   "cell_type": "code",
   "execution_count": 5,
   "id": "ef181998",
   "metadata": {},
   "outputs": [],
   "source": [
    "(x,y,z) = np.loadtxt('/Users/Keerthana/Downloads/Not Knots - Sheet1.csv', delimiter=',', unpack=True)"
   ]
  },
  {
   "cell_type": "code",
   "execution_count": 6,
   "id": "e780101d",
   "metadata": {},
   "outputs": [
    {
     "ename": "TypeError",
     "evalue": "'type' object is not iterable",
     "output_type": "error",
     "traceback": [
      "\u001b[0;31m---------------------------------------------------------------------------\u001b[0m",
      "\u001b[0;31mTypeError\u001b[0m                                 Traceback (most recent call last)",
      "\u001b[0;32m/var/folders/bm/r_gc48bx4xz4t33vx7tjyhqw0000gq/T/ipykernel_25202/2404976248.py\u001b[0m in \u001b[0;36m<module>\u001b[0;34m\u001b[0m\n\u001b[0;32m----> 1\u001b[0;31m \u001b[0malex\u001b[0m \u001b[0;34m=\u001b[0m \u001b[0malexpolynomial\u001b[0m\u001b[0;34m(\u001b[0m\u001b[0mcolumn\u001b[0m\u001b[0;34m(\u001b[0m\u001b[0mpoints\u001b[0m\u001b[0;34m,\u001b[0m\u001b[0;36m0\u001b[0m\u001b[0;34m)\u001b[0m\u001b[0;34m,\u001b[0m \u001b[0mcolumn\u001b[0m\u001b[0;34m(\u001b[0m\u001b[0mpoints\u001b[0m\u001b[0;34m,\u001b[0m\u001b[0;36m1\u001b[0m\u001b[0;34m)\u001b[0m\u001b[0;34m,\u001b[0m \u001b[0mcolumn\u001b[0m\u001b[0;34m(\u001b[0m\u001b[0mpoints\u001b[0m\u001b[0;34m,\u001b[0m\u001b[0;36m2\u001b[0m\u001b[0;34m)\u001b[0m\u001b[0;34m)\u001b[0m\u001b[0;34m[\u001b[0m\u001b[0;36m0\u001b[0m\u001b[0;34m]\u001b[0m\u001b[0;34m\u001b[0m\u001b[0;34m\u001b[0m\u001b[0m\n\u001b[0m\u001b[1;32m      2\u001b[0m \u001b[0mdisplay\u001b[0m\u001b[0;34m(\u001b[0m\u001b[0malex\u001b[0m\u001b[0;34m)\u001b[0m\u001b[0;34m\u001b[0m\u001b[0;34m\u001b[0m\u001b[0m\n",
      "\u001b[0;32m/var/folders/bm/r_gc48bx4xz4t33vx7tjyhqw0000gq/T/ipykernel_25202/2746549388.py\u001b[0m in \u001b[0;36mcolumn\u001b[0;34m(matrix, i)\u001b[0m\n\u001b[1;32m      4\u001b[0m \u001b[0;32mfrom\u001b[0m \u001b[0msympy\u001b[0m \u001b[0;32mimport\u001b[0m \u001b[0;34m*\u001b[0m\u001b[0;34m\u001b[0m\u001b[0;34m\u001b[0m\u001b[0m\n\u001b[1;32m      5\u001b[0m \u001b[0;32mdef\u001b[0m \u001b[0mcolumn\u001b[0m\u001b[0;34m(\u001b[0m\u001b[0mmatrix\u001b[0m\u001b[0;34m,\u001b[0m \u001b[0mi\u001b[0m\u001b[0;34m)\u001b[0m\u001b[0;34m:\u001b[0m\u001b[0;34m\u001b[0m\u001b[0;34m\u001b[0m\u001b[0m\n\u001b[0;32m----> 6\u001b[0;31m     \u001b[0;32mreturn\u001b[0m \u001b[0;34m[\u001b[0m\u001b[0mrow\u001b[0m\u001b[0;34m[\u001b[0m\u001b[0mi\u001b[0m\u001b[0;34m]\u001b[0m \u001b[0;32mfor\u001b[0m \u001b[0mrow\u001b[0m \u001b[0;32min\u001b[0m \u001b[0mmatrix\u001b[0m\u001b[0;34m]\u001b[0m\u001b[0;34m\u001b[0m\u001b[0;34m\u001b[0m\u001b[0m\n\u001b[0m",
      "\u001b[0;31mTypeError\u001b[0m: 'type' object is not iterable"
     ]
    }
   ],
   "source": [
    "alex = alexpolynomial(column(points,0), column(points,1), column(points,2))[0]\n",
    "display(alex)"
   ]
  },
  {
   "cell_type": "code",
   "execution_count": 6,
   "id": "83319050",
   "metadata": {},
   "outputs": [
    {
     "data": {
      "text/html": [
       "<div id=\"glowscript\" class=\"glowscript\"></div>"
      ],
      "text/plain": [
       "<IPython.core.display.HTML object>"
      ]
     },
     "metadata": {},
     "output_type": "display_data"
    },
    {
     "data": {
      "application/javascript": [
       "if (typeof Jupyter !== \"undefined\") { window.__context = { glowscript_container: $(\"#glowscript\").removeAttr(\"id\")};}else{ element.textContent = ' ';}"
      ],
      "text/plain": [
       "<IPython.core.display.Javascript object>"
      ]
     },
     "metadata": {},
     "output_type": "display_data"
    }
   ],
   "source": [
    "scene = canvas()"
   ]
  },
  {
   "cell_type": "code",
   "execution_count": 7,
   "id": "a6bfe125",
   "metadata": {},
   "outputs": [
    {
     "data": {
      "application/javascript": [
       "if (typeof Jupyter !== \"undefined\") {require.undef(\"nbextensions/vpython_libraries/glow.min\");}else{element.textContent = ' ';}"
      ],
      "text/plain": [
       "<IPython.core.display.Javascript object>"
      ]
     },
     "metadata": {},
     "output_type": "display_data"
    },
    {
     "data": {
      "application/javascript": [
       "if (typeof Jupyter !== \"undefined\") {require.undef(\"nbextensions/vpython_libraries/glowcomm\");}else{element.textContent = ' ';}"
      ],
      "text/plain": [
       "<IPython.core.display.Javascript object>"
      ]
     },
     "metadata": {},
     "output_type": "display_data"
    },
    {
     "data": {
      "application/javascript": [
       "if (typeof Jupyter !== \"undefined\") {require.undef(\"nbextensions/vpython_libraries/jquery-ui.custom.min\");}else{element.textContent = ' ';}"
      ],
      "text/plain": [
       "<IPython.core.display.Javascript object>"
      ]
     },
     "metadata": {},
     "output_type": "display_data"
    },
    {
     "data": {
      "application/javascript": [
       "if (typeof Jupyter !== \"undefined\") {require([\"nbextensions/vpython_libraries/glow.min\"], function(){console.log(\"GLOW LOADED\");});}else{element.textContent = ' ';}"
      ],
      "text/plain": [
       "<IPython.core.display.Javascript object>"
      ]
     },
     "metadata": {},
     "output_type": "display_data"
    },
    {
     "data": {
      "application/javascript": [
       "if (typeof Jupyter !== \"undefined\") {require([\"nbextensions/vpython_libraries/glowcomm\"], function(){console.log(\"GLOWCOMM LOADED\");});}else{element.textContent = ' ';}"
      ],
      "text/plain": [
       "<IPython.core.display.Javascript object>"
      ]
     },
     "metadata": {},
     "output_type": "display_data"
    },
    {
     "data": {
      "application/javascript": [
       "if (typeof Jupyter !== \"undefined\") {require([\"nbextensions/vpython_libraries/jquery-ui.custom.min\"], function(){console.log(\"JQUERY LOADED\");});}else{element.textContent = ' ';}"
      ],
      "text/plain": [
       "<IPython.core.display.Javascript object>"
      ]
     },
     "metadata": {},
     "output_type": "display_data"
    }
   ],
   "source": [
    "points = []\n",
    "trefoil = curve(color = vector(0.5,0,0.5))\n",
    "trefoil.visible=False\n",
    "grid = np.zeros(shape=(20, 20, 20, 20))\n",
    "for i in range(0, len(x)):\n",
    "    a = int(x[i])\n",
    "    b = int(y[i])\n",
    "    c = int(z[i])\n",
    "    vec = vector(a,b,c)\n",
    "    trefoil.append(vec)\n",
    "    points.append([a,b,c,0])\n",
    "    grid[a][b][c][0] = 1\n",
    "    \n",
    "trefoil.visible=True"
   ]
  },
  {
   "cell_type": "code",
   "execution_count": 8,
   "id": "b8fc3253",
   "metadata": {},
   "outputs": [
    {
     "data": {
      "text/latex": [
       "$\\displaystyle - t^{4} + t^{3} - t^{2}$"
      ],
      "text/plain": [
       "-t**4 + t**3 - t**2"
      ]
     },
     "metadata": {},
     "output_type": "display_data"
    },
    {
     "data": {
      "text/latex": [
       "$\\displaystyle - t^{2} + t - 1$"
      ],
      "text/plain": [
       "-t**2 + t - 1"
      ]
     },
     "metadata": {},
     "output_type": "display_data"
    },
    {
     "data": {
      "text/latex": [
       "$\\displaystyle 0$"
      ],
      "text/plain": [
       "0"
      ]
     },
     "metadata": {},
     "output_type": "display_data"
    },
    {
     "data": {
      "text/latex": [
       "$\\displaystyle \\left[\\begin{matrix}1 - t & 0 & t & -1 & 0\\\\1 - t & t & 0 & -1 & 0\\\\t & -1 & 0 & 1 - t & 0\\\\-1 & 1 - t & 0 & t & 0\\\\-1 & 1 - t & 0 & 0 & t\\end{matrix}\\right]$"
      ],
      "text/plain": [
       "Matrix([\n",
       "[1 - t,     0, t,    -1, 0],\n",
       "[1 - t,     t, 0,    -1, 0],\n",
       "[    t,    -1, 0, 1 - t, 0],\n",
       "[   -1, 1 - t, 0,     t, 0],\n",
       "[   -1, 1 - t, 0,     0, t]])"
      ]
     },
     "metadata": {},
     "output_type": "display_data"
    },
    {
     "data": {
      "text/latex": [
       "$\\displaystyle t \\left(- t^{3} + t - 1\\right)$"
      ],
      "text/plain": [
       "t*(-t**3 + t - 1)"
      ]
     },
     "metadata": {},
     "output_type": "display_data"
    },
    {
     "data": {
      "text/latex": [
       "$\\displaystyle 0$"
      ],
      "text/plain": [
       "0"
      ]
     },
     "metadata": {},
     "output_type": "display_data"
    },
    {
     "data": {
      "text/latex": [
       "$\\displaystyle \\left[\\begin{matrix}1 - t & 0 & t & -1 & 0\\\\1 - t & t & 0 & -1 & 0\\\\t & -1 & 0 & 1 - t & 0\\\\-1 & 1 - t & 0 & t & 0\\\\-1 & 1 - t & 0 & 0 & t\\end{matrix}\\right]$"
      ],
      "text/plain": [
       "Matrix([\n",
       "[1 - t,     0, t,    -1, 0],\n",
       "[1 - t,     t, 0,    -1, 0],\n",
       "[    t,    -1, 0, 1 - t, 0],\n",
       "[   -1, 1 - t, 0,     t, 0],\n",
       "[   -1, 1 - t, 0,     0, t]])"
      ]
     },
     "metadata": {},
     "output_type": "display_data"
    },
    {
     "data": {
      "text/latex": [
       "$\\displaystyle t^{3} - t^{2} + t$"
      ],
      "text/plain": [
       "t**3 - t**2 + t"
      ]
     },
     "metadata": {},
     "output_type": "display_data"
    },
    {
     "data": {
      "text/latex": [
       "$\\displaystyle 0$"
      ],
      "text/plain": [
       "0"
      ]
     },
     "metadata": {},
     "output_type": "display_data"
    },
    {
     "data": {
      "text/latex": [
       "$\\displaystyle \\left[\\begin{matrix}1 - t & 0 & 0 & t & -1 & 0\\\\1 - t & 0 & t & 0 & -1 & 0\\\\t & -1 & 0 & 0 & 1 - t & 0\\\\0 & -1 & t & 0 & 0 & 0\\\\-1 & 0 & 1 - t & 0 & t & 0\\\\-1 & 0 & 1 - t & 0 & 0 & t\\end{matrix}\\right]$"
      ],
      "text/plain": [
       "Matrix([\n",
       "[1 - t,  0,     0, t,    -1, 0],\n",
       "[1 - t,  0,     t, 0,    -1, 0],\n",
       "[    t, -1,     0, 0, 1 - t, 0],\n",
       "[    0, -1,     t, 0,     0, 0],\n",
       "[   -1,  0, 1 - t, 0,     t, 0],\n",
       "[   -1,  0, 1 - t, 0,     0, t]])"
      ]
     },
     "metadata": {},
     "output_type": "display_data"
    },
    {
     "data": {
      "text/latex": [
       "$\\displaystyle - t^{4} + t^{3} - t^{2}$"
      ],
      "text/plain": [
       "-t**4 + t**3 - t**2"
      ]
     },
     "metadata": {},
     "output_type": "display_data"
    },
    {
     "data": {
      "text/latex": [
       "$\\displaystyle - t^{4} + 2 t^{3} - 2 t^{2}$"
      ],
      "text/plain": [
       "-t**4 + 2*t**3 - 2*t**2"
      ]
     },
     "metadata": {},
     "output_type": "display_data"
    },
    {
     "data": {
      "text/latex": [
       "$\\displaystyle t^{5} - 2 t^{4} + 2 t^{3}$"
      ],
      "text/plain": [
       "t**5 - 2*t**4 + 2*t**3"
      ]
     },
     "metadata": {},
     "output_type": "display_data"
    },
    {
     "data": {
      "text/latex": [
       "$\\displaystyle - 2 t^{4} + 2 t^{3} - t^{2}$"
      ],
      "text/plain": [
       "-2*t**4 + 2*t**3 - t**2"
      ]
     },
     "metadata": {},
     "output_type": "display_data"
    }
   ],
   "source": [
    "timelim = 10\n",
    "trefoil.radius=0.07\n",
    "\n",
    "alex = alexpolynomial(column(points,0), column(points,1), column(points,2))[0]\n",
    "display(alex)\n",
    "t=0\n",
    "time = [0]\n",
    "length = len(x)-3\n",
    "while (t<timelim) and (alex!=1):\n",
    "    for j in range(length, 0, -1):\n",
    "        rate(20)\n",
    "        prev = points[j-1]\n",
    "        cur = points[j]\n",
    "        nex = points[j+1]\n",
    "        nexx = points[j+2]\n",
    "        s1 = np.subtract(cur,prev)\n",
    "        s2 = np.subtract(nex,nexx)\n",
    "        compare = s1 == s2\n",
    "        if (compare.all()):\n",
    "            s3 = np.subtract(nex, cur)\n",
    "            perp1 = np.array([s3[1], s3[2], s3[3], s3[0]])\n",
    "            perp2 = np.array([s3[2], s3[3], s3[0], s3[1]])\n",
    "            perp3 = np.array([s3[3], s3[0], s3[1], s3[2]])\n",
    "            perps = [perp1, perp2, perp3, -perp1, -perp2, -perp3]\n",
    "            np.random.shuffle(perps)   \n",
    "            curn = prev + perps[0]\n",
    "            nexn = nexx + perps[0]\n",
    "            \n",
    "            if ((grid[curn[0]][curn[1]][curn[2]][curn[3]]==0) and (grid[nexn[0]][nexn[1]][nexn[2]][nexn[3]]==0)):\n",
    "                points[j]=[curn[0], curn[1], curn[2], curn[3]]\n",
    "                points[j+1] = [nexn[0], nexn[1], nexn[2], nexn[3]]\n",
    "                grid[cur[0]][cur[1]][cur[2]][cur[3]]=0\n",
    "                grid[nex[0]][nex[1]][nex[2]][nex[3]]=0\n",
    "                grid[curn[0]][curn[1]][curn[2]][curn[3]]=1\n",
    "                grid[nexn[0]][nexn[1]][nexn[2]][nexn[3]]=1\n",
    "                \n",
    "                P1 = trefoil.point(j)\n",
    "                new1 = vector(curn[0], curn[1], curn[2])\n",
    "                P1['pos'] = new1\n",
    "                trefoil.splice(j,1,P1['pos'])\n",
    "                col1 = color(curn[3])\n",
    "                trefoil.modify(j, color = col1)\n",
    "                \n",
    "                P2 = trefoil.point(j+1)\n",
    "                new2 = vector(nexn[0], nexn[1], nexn[2])\n",
    "                P2['pos'] = new2\n",
    "                trefoil.splice(j+1,1,P2['pos'])\n",
    "                col2 = color(nexn[3])\n",
    "                trefoil.modify(j+1, color = col2)\n",
    "            else:\n",
    "                continue\n",
    "            \n",
    "        x1 = points[j][0]\n",
    "        y1 = points[j][1]\n",
    "        z1 = points[j][2]\n",
    "        w1 = points[j][3]\n",
    "        prev = points[j-1]\n",
    "        cur = points[j]\n",
    "        nex = points[j+1]\n",
    "        d1 = np.subtract(nex, cur)\n",
    "        d2 = np.subtract(prev, cur)\n",
    "        dot = np.multiply(d1,d2)\n",
    "        compare = dot == [0,0,0,0]\n",
    "        if (compare.all()):\n",
    "            other = np.subtract(nex,cur) + prev\n",
    "            x2 = other[0]\n",
    "            y2 = other[1]\n",
    "            z2 = other[2]\n",
    "            w2 = other[3]\n",
    "            if (grid[x2][y2][z2][w2]==0):\n",
    "                rand = np.random.randint(1, 3, size=1)\n",
    "                if (rand==1):\n",
    "                    points[j]=[x2,y2,z2,w2]\n",
    "                    grid[x2][y2][z2][w2]=1\n",
    "                    grid[x1][y1][z1][w1]=0\n",
    "                    P = trefoil.point(j)\n",
    "                    new = vector(x2, y2, z2)\n",
    "                    P['pos'] = new\n",
    "                    trefoil.splice(j,1,P['pos'])\n",
    "                    col = color(w2)\n",
    "                    trefoil.modify(j,color=col)\n",
    "                else:\n",
    "                    continue\n",
    "            else:\n",
    "                continue\n",
    "        else:\n",
    "            continue\n",
    "            \n",
    "    time.append(t+1)\n",
    "    alex = alexpolynomial(column(points,0), column(points,1), column(points,2))[0]\n",
    "    display(alex)\n",
    "    if (alex==0):\n",
    "        Mdupe = alexpolynomial(column(points,0), column(points,1), column(points,2))[2]\n",
    "        display(Mdupe)\n",
    "    t=t+1"
   ]
  },
  {
   "cell_type": "code",
   "execution_count": 77,
   "id": "1f669ec1",
   "metadata": {},
   "outputs": [
    {
     "data": {
      "text/latex": [
       "$\\displaystyle - t^{4} + t^{3} - t^{2}$"
      ],
      "text/plain": [
       "-t**4 + t**3 - t**2"
      ]
     },
     "metadata": {},
     "output_type": "display_data"
    },
    {
     "data": {
      "text/latex": [
       "$\\displaystyle - t^{4} + t^{3} - t^{2}$"
      ],
      "text/plain": [
       "-t**4 + t**3 - t**2"
      ]
     },
     "metadata": {},
     "output_type": "display_data"
    },
    {
     "name": "stdout",
     "output_type": "stream",
     "text": [
      "[2] [1 0 0 0]\n"
     ]
    },
    {
     "data": {
      "text/latex": [
       "$\\displaystyle 0$"
      ],
      "text/plain": [
       "0"
      ]
     },
     "metadata": {},
     "output_type": "display_data"
    },
    {
     "name": "stdout",
     "output_type": "stream",
     "text": [
      "[2] [0 1 0 0]\n"
     ]
    },
    {
     "data": {
      "text/latex": [
       "$\\displaystyle - t^{2} \\left(- t^{2} + t - 1\\right)$"
      ],
      "text/plain": [
       "-t**2*(-t**2 + t - 1)"
      ]
     },
     "metadata": {},
     "output_type": "display_data"
    },
    {
     "name": "stdout",
     "output_type": "stream",
     "text": [
      "[6] [0, 0, 0, -1]\n",
      "[6] [0, 0, 0, -1]\n",
      "[2] [0 1 0 0]\n",
      "[4] [0, 0, -1, 0]\n"
     ]
    },
    {
     "data": {
      "text/latex": [
       "$\\displaystyle - t^{2} \\left(- t^{2} + t - 1\\right)$"
      ],
      "text/plain": [
       "-t**2*(-t**2 + t - 1)"
      ]
     },
     "metadata": {},
     "output_type": "display_data"
    },
    {
     "name": "stdout",
     "output_type": "stream",
     "text": [
      "[5] [0, 0, 0, 1]\n"
     ]
    },
    {
     "data": {
      "text/latex": [
       "$\\displaystyle - t^{2} \\left(- t^{2} + t - 1\\right)$"
      ],
      "text/plain": [
       "-t**2*(-t**2 + t - 1)"
      ]
     },
     "metadata": {},
     "output_type": "display_data"
    },
    {
     "name": "stdout",
     "output_type": "stream",
     "text": [
      "[5] [0, 0, 0, 1]\n",
      "[3] [0, 0, 1, 0]\n",
      "[6] [0, 0, 0, -1]\n",
      "[3] [0, 0, 1, 0]\n"
     ]
    },
    {
     "data": {
      "text/latex": [
       "$\\displaystyle 0$"
      ],
      "text/plain": [
       "0"
      ]
     },
     "metadata": {},
     "output_type": "display_data"
    },
    {
     "name": "stdout",
     "output_type": "stream",
     "text": [
      "[2] [1 0 0 0]\n"
     ]
    },
    {
     "data": {
      "text/latex": [
       "$\\displaystyle 0$"
      ],
      "text/plain": [
       "0"
      ]
     },
     "metadata": {},
     "output_type": "display_data"
    },
    {
     "name": "stdout",
     "output_type": "stream",
     "text": [
      "[5] [0, 0, 0, 1]\n"
     ]
    },
    {
     "data": {
      "text/latex": [
       "$\\displaystyle 0$"
      ],
      "text/plain": [
       "0"
      ]
     },
     "metadata": {},
     "output_type": "display_data"
    },
    {
     "name": "stdout",
     "output_type": "stream",
     "text": [
      "[6] [0, 0, 0, -1]\n",
      "[5] [0, 0, 0, 1]\n",
      "[5] [0, 0, 0, 1]\n",
      "[3] [0, 0, 1, 0]\n"
     ]
    },
    {
     "data": {
      "text/latex": [
       "$\\displaystyle 2 t^{5} - 3 t^{4} + 2 t^{3}$"
      ],
      "text/plain": [
       "2*t**5 - 3*t**4 + 2*t**3"
      ]
     },
     "metadata": {},
     "output_type": "display_data"
    },
    {
     "name": "stdout",
     "output_type": "stream",
     "text": [
      "[6] [0, 0, 0, -1]\n",
      "[5] [0, 0, 0, 1]\n",
      "[5] [0, 0, 0, 1]\n",
      "[3] [0, 0, 1, 0]\n",
      "[6] [0, 0, 0, -1]\n",
      "[2] [0 1 0 0]\n"
     ]
    },
    {
     "data": {
      "text/latex": [
       "$\\displaystyle - t^{7} + t^{6} + t^{5} - 2 t^{4}$"
      ],
      "text/plain": [
       "-t**7 + t**6 + t**5 - 2*t**4"
      ]
     },
     "metadata": {},
     "output_type": "display_data"
    }
   ],
   "source": [
    "timelim = 10\n",
    "trefoil.radius=0.07\n",
    "# scene.center = vector(np.mean(xvals), np.mean(yvals), np.mean(zvals))\n",
    "\n",
    "alex = alexpolynomial(column(points,0), column(points,1), column(points,2))\n",
    "display(alex)\n",
    "t=0\n",
    "time = [0]\n",
    "length = len(x)-3\n",
    "while (t<timelim) and (alex!=1):\n",
    "    for j in range(length, 0, -1):\n",
    "        rate(20)\n",
    "        x1 = points[j][0]\n",
    "        y1 = points[j][1]\n",
    "        z1 = points[j][2]\n",
    "        w1 = points[j][3]\n",
    "        prev = points[j-1]\n",
    "        cur = points[j]\n",
    "        nex = points[j+1]\n",
    "        nexx = points[j+2]\n",
    "        s1 = np.subtract(cur,prev)\n",
    "        s2 = np.subtract(nex,nexx)\n",
    "        compare = s1 == s2\n",
    "        if (compare.all()):\n",
    "            rand = np.random.randint(1, 7, size=1)\n",
    "            cross = np.cross(s1[0:3],np.subtract(cur[0:3],nex[0:3]))\n",
    "            a = cross == [0,0,0]\n",
    "            if (a.all()):\n",
    "                continue\n",
    "            else:\n",
    "                if (rand==1):\n",
    "                    continue\n",
    "                if (rand==2):\n",
    "                    thing = -s1\n",
    "                elif (rand == 3):\n",
    "                    thing = [*cross, *[0]]\n",
    "                elif (rand==4):\n",
    "                    thing = [*(-cross), *[0]]\n",
    "                elif (rand==5):\n",
    "                    thing = [0,0,0,1]\n",
    "                elif (rand==6):\n",
    "                    thing = [0,0,0,-1]\n",
    "                    \n",
    "            print(rand, thing)   \n",
    "            curn = prev + thing\n",
    "            nexn = nexx + thing\n",
    "            \n",
    "            \n",
    "            if ((grid[curn[0]][curn[1]][curn[2]][curn[3]]==0) and (grid[nexn[0]][nexn[1]][nexn[2]][nexn[3]]==0)):\n",
    "                points[j]=[curn[0], curn[1], curn[2], curn[3]]\n",
    "                points[j+1] = [nexn[0], nexn[1], nexn[2], nexn[3]]\n",
    "                grid[cur[0]][cur[1]][cur[2]][cur[3]]=0\n",
    "                grid[nex[0]][nex[1]][nex[2]][nex[3]]=0\n",
    "                grid[curn[0]][curn[1]][curn[2]][curn[3]]=1\n",
    "                grid[nexn[0]][nexn[1]][nexn[2]][nexn[3]]=1\n",
    "                \n",
    "                P1 = trefoil.point(j)\n",
    "                new1 = vector(curn[0], curn[1], curn[2])\n",
    "                P1['pos'] = new1\n",
    "                trefoil.splice(j,1,P1['pos'])\n",
    "                col1 = color(curn[3])\n",
    "                trefoil.modify(j, color = col1)\n",
    "                \n",
    "                P2 = trefoil.point(j+1)\n",
    "                new2 = vector(nexn[0], nexn[1], nexn[2])\n",
    "                P2['pos'] = new2\n",
    "                trefoil.splice(j+1,1,P2['pos'])\n",
    "                col2 = color(nexn[3])\n",
    "                trefoil.modify(j+1, color = col2)\n",
    "            else:\n",
    "                continue\n",
    "            \n",
    "        x1 = points[j][0]\n",
    "        y1 = points[j][1]\n",
    "        z1 = points[j][2]\n",
    "        w1 = points[j][3]\n",
    "        prev = points[j-1]\n",
    "        cur = points[j]\n",
    "        nex = points[j+1]\n",
    "        d1 = np.subtract(nex, cur)\n",
    "        d2 = np.subtract(prev, cur)\n",
    "        dot = np.multiply(d1,d2)\n",
    "        compare = dot == [0,0,0,0]\n",
    "        if (compare.all()):\n",
    "            other = np.subtract(nex,cur) + prev\n",
    "            x2 = other[0]\n",
    "            y2 = other[1]\n",
    "            z2 = other[2]\n",
    "            w2 = other[3]\n",
    "            if (grid[x2][y2][z2][w2]==0):\n",
    "                rand = np.random.randint(1, 3, size=1)\n",
    "                if (rand==1):\n",
    "                    points[j]=[x2,y2,z2,w2]\n",
    "                    grid[x2][y2][z2][w2]=1\n",
    "                    grid[x1][y1][z1][w1]=0\n",
    "                    P = trefoil.point(j)\n",
    "                    new = vector(x2, y2, z2)\n",
    "                    P['pos'] = new\n",
    "                    trefoil.splice(j,1,P['pos'])\n",
    "                    col = color(w2)\n",
    "                    trefoil.modify(j,color=col)\n",
    "                else:\n",
    "                    continue\n",
    "            else:\n",
    "                continue\n",
    "        else:\n",
    "            continue\n",
    "            \n",
    "    time.append(t+1)\n",
    "    alex = alexpolynomial(column(points,0), column(points,1), column(points,2))\n",
    "    t=t+1\n",
    "    display(alex)"
   ]
  },
  {
   "cell_type": "code",
   "execution_count": null,
   "id": "657e6f1b",
   "metadata": {},
   "outputs": [],
   "source": []
  },
  {
   "cell_type": "code",
   "execution_count": 13,
   "id": "ef1f40f8",
   "metadata": {},
   "outputs": [],
   "source": [
    "\n",
    "#trefoil.radius=0.07\n",
    "trefoil.visible=True\n",
    "scene.center = vector(-2,1,0)\n",
    "\n",
    "\n",
    "t=0\n",
    "while t<30:\n",
    "    for j in range(49, 0, -1):\n",
    "        rate(20)\n",
    "        x1 = tpoints[j][0]\n",
    "        y1 = tpoints[j][1]\n",
    "        z1 = tpoints[j][2]\n",
    "        prev = tpoints[j-1]\n",
    "        cur = tpoints[j]\n",
    "        nex = tpoints[j+1]\n",
    "        d1 = np.subtract(nex, cur)\n",
    "        d2 = np.subtract(prev, cur)\n",
    "        dot = np.multiply(d1,d2)\n",
    "        compare = dot == [0,0,0]\n",
    "        if (compare.all()):\n",
    "            other = np.subtract(nex,cur) + prev\n",
    "            x2 = other[0]\n",
    "            y2 = other[1]\n",
    "            z2 = other[2]\n",
    "            if (tgrid[x2][y2][z2]==0):\n",
    "                rand = np.random.randint(1, 3, size=1)\n",
    "                if (rand==1):\n",
    "                    tpoints[j]=[x2,y2,z2]\n",
    "                    tgrid[x2][y2][z2]=1\n",
    "                    tgrid[x1][y1][z1]=0\n",
    "                    P = trefoil.point(j)\n",
    "                    new = vector(x2, y2, z2)\n",
    "                    P['pos'] = new\n",
    "                    trefoil.splice(j,1,P['pos'])\n",
    "                else:\n",
    "                    continue\n",
    "            else:\n",
    "                continue\n",
    "        else:\n",
    "            continue\n",
    "    t=t+1\n"
   ]
  }
 ],
 "metadata": {
  "kernelspec": {
   "display_name": "Python 3 (ipykernel)",
   "language": "python",
   "name": "python3"
  },
  "language_info": {
   "codemirror_mode": {
    "name": "ipython",
    "version": 3
   },
   "file_extension": ".py",
   "mimetype": "text/x-python",
   "name": "python",
   "nbconvert_exporter": "python",
   "pygments_lexer": "ipython3",
   "version": "3.9.7"
  },
  "vscode": {
   "interpreter": {
    "hash": "b6fbef5ff2766c8a64a42a1b26ddbc3e1dd8567d46296bb5270eaf7c4182fad3"
   }
  }
 },
 "nbformat": 4,
 "nbformat_minor": 5
}
